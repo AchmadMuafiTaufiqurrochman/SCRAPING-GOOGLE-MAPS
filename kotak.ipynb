{
 "cells": [
  {
   "cell_type": "code",
   "execution_count": 25,
   "id": "a6b9c990",
   "metadata": {},
   "outputs": [
    {
     "name": "stdout",
     "output_type": "stream",
     "text": [
      "Export berhasil!\n"
     ]
    }
   ],
   "source": [
    "import math\n",
    "from openpyxl import Workbook, load_workbook\n",
    "\n",
    "def calculate_delta(lat, distance_meters):\n",
    "    lat_deg = distance_meters / 111000\n",
    "    lon_deg = distance_meters / (111000 * math.cos(math.radians(lat)))\n",
    "    return lat_deg, lon_deg\n",
    "\n",
    "# Baca file Excel\n",
    "wb = load_workbook('data pariwisata batas.xlsx')\n",
    "ws = wb.active\n",
    "\n",
    "hasil = []\n",
    "headers = [cell.value for cell in ws[1]]  # Asumsi header di row 1\n",
    "\n",
    "# Process data\n",
    "for row in ws.iter_rows(min_row=2, values_only=True):\n",
    "    id_pariwisata = row[headers.index('id')]\n",
    "    lat = float(row[headers.index('latitude')])\n",
    "    lon = float(row[headers.index('longitude')])\n",
    "    \n",
    "    RADIUS = 10\n",
    "    delta_lat, delta_lon = calculate_delta(lat, RADIUS)\n",
    "    \n",
    "    # Generate points (same logic as before)\n",
    "    for point in [\n",
    "        (lat + delta_lat, lon + delta_lon),\n",
    "        (lat + delta_lat, lon - delta_lon),\n",
    "        (lat - delta_lat, lon - delta_lon),\n",
    "        (lat - delta_lat, lon + delta_lon)\n",
    "    ]:\n",
    "        hasil.append({\n",
    "            'id_pariwisata': id_pariwisata,\n",
    "            'latitude': point[0],\n",
    "            'longitude': point[1]\n",
    "            \n",
    "        })\n",
    "\n",
    "# Buat file Excel output\n",
    "wb_out = Workbook()\n",
    "ws_out = wb_out.active\n",
    "ws_out.append(['id_pariwisata', 'latitude', 'longitude'])\n",
    "\n",
    "for entry in hasil:\n",
    "    ws_out.append([\n",
    "        entry['id_pariwisata'],\n",
    "        entry['latitude'],\n",
    "        entry['longitude']\n",
    "    ])\n",
    "\n",
    "wb_out.save('hasil_koordinat_kotak.xlsx')\n",
    "print(\"Export berhasil!\")"
   ]
  }
 ],
 "metadata": {
  "kernelspec": {
   "display_name": "env (3.13.4)",
   "language": "python",
   "name": "python3"
  },
  "language_info": {
   "codemirror_mode": {
    "name": "ipython",
    "version": 3
   },
   "file_extension": ".py",
   "mimetype": "text/x-python",
   "name": "python",
   "nbconvert_exporter": "python",
   "pygments_lexer": "ipython3",
   "version": "3.13.4"
  }
 },
 "nbformat": 4,
 "nbformat_minor": 5
}
